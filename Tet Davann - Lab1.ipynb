{
 "cells":[
  {
   "cell_type":"markdown",
   "source":[
    "# Lab1"
   ],
   "attachments":{
    
   },
   "metadata":{
    "datalore":{
     "node_id":"Lab1",
     "type":"MD",
     "hide_input_from_viewers":false,
     "hide_output_from_viewers":false,
     "sheet_delimiter":true
    }
   }
  },
  {
   "cell_type":"code",
   "source":[
    "# Define the documents as a dictionary where keys are document titles and values are document content\n",
    "documents = {\n",
    "    \"Article: Pandas Basics\": \"This article covers the basics of using Pandas in Python.\",\n",
    "    \"Tutorial: Data Visualization\": \"Learn about data visualization techniques with Python libraries.\",\n",
    "    \"Case Study: Sales Analysis\": \"Analyze sales data using Python for a real-world case study.\"\n",
    "}"
   ],
   "execution_count":1,
   "outputs":[
    
   ],
   "metadata":{
    "datalore":{
     "node_id":"JUGFbTlZR9glHRbjUoXY2s",
     "type":"CODE",
     "hide_input_from_viewers":true,
     "hide_output_from_viewers":true
    }
   }
  },
  {
   "cell_type":"code",
   "source":[
    "key_documents = [title for title in documents]\n",
    "key_documents"
   ],
   "execution_count":2,
   "outputs":[
    {
     "data":{
      "text\/plain":[
       "['Article: Pandas Basics',\n",
       " 'Tutorial: Data Visualization',\n",
       " 'Case Study: Sales Analysis']"
      ]
     },
     "metadata":{
      
     },
     "output_type":"display_data"
    }
   ],
   "metadata":{
    "datalore":{
     "node_id":"hkc1fhnTvBoCH2LscQac2j",
     "type":"CODE",
     "hide_input_from_viewers":true,
     "hide_output_from_viewers":true
    }
   }
  },
  {
   "cell_type":"code",
   "source":[
    "\n",
    "# Extract the content values and put them in a list\n",
    "document_content_list = []\n",
    "for x in key_documents:\n",
    "    document_content_list.append(documents[x])\n",
    "# Display the list of document content\n",
    "print(document_content_list)"
   ],
   "execution_count":3,
   "outputs":[
    {
     "name":"stdout",
     "text":[
      "['This article covers the basics of using Pandas in Python.', 'Learn about data visualization techniques with Python libraries.', 'Analyze sales data using Python for a real-world case study.']\n"
     ],
     "output_type":"stream"
    }
   ],
   "metadata":{
    "datalore":{
     "node_id":"eGyFiB6AYhmDxME36c3XOA",
     "type":"CODE",
     "hide_input_from_viewers":true,
     "hide_output_from_viewers":true
    }
   }
  },
  {
   "cell_type":"code",
   "source":[
    "# Gather the set of all unique terms from the list content of document and diplay the result\n",
    "unique_terms = {doc for content in documents for doc in documents[content].split(' ')}\n",
    "unique_terms"
   ],
   "execution_count":4,
   "outputs":[
    {
     "data":{
      "text\/plain":[
       "{'Analyze',\n",
       " 'Learn',\n",
       " 'Pandas',\n",
       " 'Python',\n",
       " 'Python.',\n",
       " 'This',\n",
       " 'a',\n",
       " 'about',\n",
       " 'article',\n",
       " 'basics',\n",
       " 'case',\n",
       " 'covers',\n",
       " 'data',\n",
       " 'for',\n",
       " 'in',\n",
       " 'libraries.',\n",
       " 'of',\n",
       " 'real-world',\n",
       " 'sales',\n",
       " 'study.',\n",
       " 'techniques',\n",
       " 'the',\n",
       " 'using',\n",
       " 'visualization',\n",
       " 'with'}"
      ]
     },
     "metadata":{
      
     },
     "output_type":"display_data"
    }
   ],
   "metadata":{
    "datalore":{
     "node_id":"NbJK8pYaRqPzmbvunP1WRN",
     "type":"CODE",
     "hide_input_from_viewers":true,
     "hide_output_from_viewers":true
    }
   }
  },
  {
   "cell_type":"code",
   "source":[
    "# create a matrix for the document by using the unique term\n",
    "doc_term_matrix={}\n",
    "for key in unique_terms:\n",
    "    doc_term_matrix[key] = []\n",
    "    for doc in key_documents:\n",
    "        if key in documents[doc]:\n",
    "            doc_term_matrix[key].append(1)\n",
    "        else:\n",
    "            doc_term_matrix[key].append(0)\n",
    "# your code here\n",
    "\n",
    "# display the result of the matrix\n",
    "doc_term_matrix"
   ],
   "execution_count":5,
   "outputs":[
    {
     "data":{
      "text\/plain":[
       "{'a': [1, 1, 1],\n",
       " 'for': [0, 0, 1],\n",
       " 'covers': [1, 0, 0],\n",
       " 'visualization': [0, 1, 0],\n",
       " 'in': [1, 0, 1],\n",
       " 'libraries.': [0, 1, 0],\n",
       " 'techniques': [0, 1, 0],\n",
       " 'using': [1, 0, 1],\n",
       " 'sales': [0, 0, 1],\n",
       " 'study.': [0, 0, 1],\n",
       " 'Python': [1, 1, 1],\n",
       " 'Pandas': [1, 0, 0],\n",
       " 'data': [0, 1, 1],\n",
       " 'the': [1, 0, 0],\n",
       " 'Python.': [1, 0, 0],\n",
       " 'of': [1, 0, 0],\n",
       " 'article': [1, 0, 0],\n",
       " 'case': [0, 0, 1],\n",
       " 'Analyze': [0, 0, 1],\n",
       " 'about': [0, 1, 0],\n",
       " 'real-world': [0, 0, 1],\n",
       " 'basics': [1, 0, 0],\n",
       " 'Learn': [0, 1, 0],\n",
       " 'This': [1, 0, 0],\n",
       " 'with': [0, 1, 0]}"
      ]
     },
     "metadata":{
      
     },
     "output_type":"display_data"
    }
   ],
   "metadata":{
    "datalore":{
     "node_id":"wWOz1DpfCEiVEF10VU89Tk",
     "type":"CODE",
     "hide_input_from_viewers":true,
     "hide_output_from_viewers":true
    }
   }
  },
  {
   "cell_type":"code",
   "source":[
    "# import the numpy library if it doesn't work you need to install numpy\n",
    "import numpy as np\n",
    "\n",
    "docs_array = np.array(document_content_list,dtype='object')\n",
    "title_array = np.array(key_documents,dtype='object')\n",
    "v1 = np.array(doc_term_matrix['the'],dtype = bool)    \n",
    "v2 = np.array(doc_term_matrix['Python'],dtype = bool)\n",
    "\n",
    "print(v1)\n",
    "print(v2)\n",
    "print('-------')\n",
    "\n",
    "# # find the documents that have both terms from v1 and v2\n",
    "v3 = v1 & v2\n",
    "# [x for x in v3*docs_array if x]\n",
    "print(v3)\n",
    "\n",
    "# display the content document from the result\n",
    "docs_array[v3]\n",
    "title_array[v3]"
   ],
   "execution_count":6,
   "outputs":[
    {
     "name":"stdout",
     "text":[
      "[ True False False]\n",
      "[ True  True  True]\n",
      "-------\n",
      "[ True False False]\n"
     ],
     "output_type":"stream"
    },
    {
     "data":{
      "text\/html":[
       "<pre>array(['Article: Pandas Basics'], dtype=object)<\/pre>"
      ]
     },
     "metadata":{
      
     },
     "output_type":"display_data"
    }
   ],
   "metadata":{
    "datalore":{
     "node_id":"ZsEiYamBGn1b2Q39tZhQrx",
     "type":"CODE",
     "hide_input_from_viewers":true,
     "hide_output_from_viewers":true
    }
   }
  },
  {
   "cell_type":"code",
   "source":[
    "import pandas as pd\n",
    "\n",
    "df = pd.DataFrame({'Title':title_array[v3],'Content':docs_array[v3]})\n",
    "df"
   ],
   "execution_count":7,
   "outputs":[
    {
     "data":{
      "text\/html":[
       "<div>\n",
       "<style scoped>\n",
       "    .dataframe tbody tr th:only-of-type {\n",
       "        vertical-align: middle;\n",
       "    }\n",
       "\n",
       "    .dataframe tbody tr th {\n",
       "        vertical-align: top;\n",
       "    }\n",
       "\n",
       "    .dataframe thead th {\n",
       "        text-align: right;\n",
       "    }\n",
       "<\/style>\n",
       "<table border=\"1\" class=\"dataframe\">\n",
       "  <thead>\n",
       "    <tr style=\"text-align: right;\">\n",
       "      <th><\/th>\n",
       "      <th>Title<\/th>\n",
       "      <th>Content<\/th>\n",
       "    <\/tr>\n",
       "  <\/thead>\n",
       "  <tbody>\n",
       "    <tr>\n",
       "      <th>0<\/th>\n",
       "      <td>Article: Pandas Basics<\/td>\n",
       "      <td>This article covers the basics of using Pandas...<\/td>\n",
       "    <\/tr>\n",
       "  <\/tbody>\n",
       "<\/table>\n",
       "<\/div>"
      ]
     },
     "metadata":{
      
     },
     "output_type":"display_data"
    }
   ],
   "metadata":{
    "datalore":{
     "node_id":"Pwcfu3FFP4kNbrPa00bOut",
     "type":"CODE",
     "hide_input_from_viewers":true,
     "hide_output_from_viewers":true
    }
   }
  },
  {
   "cell_type":"code",
   "source":[
    
   ],
   "execution_count":null,
   "outputs":[
    
   ],
   "metadata":{
    "datalore":{
     "node_id":"puaj0cqBj1q12IlywaDLZd",
     "type":"CODE",
     "hide_input_from_viewers":true,
     "hide_output_from_viewers":true
    }
   }
  },
  {
   "cell_type":"markdown",
   "source":[
    "# Lab2"
   ],
   "attachments":{
    
   },
   "metadata":{
    "datalore":{
     "node_id":"Lab2",
     "type":"MD",
     "hide_input_from_viewers":false,
     "hide_output_from_viewers":false,
     "sheet_delimiter":true
    }
   }
  },
  {
   "cell_type":"code",
   "source":[
    "import pandas as pd\n",
    "datas = pd.read_csv('\/data\/notebook_files\/tdoc.csv',header=None,names=['Titles','Contents'])\n",
    "# datas._set_axis_name(['Title'])\n",
    "datas"
   ],
   "execution_count":8,
   "outputs":[
    {
     "data":{
      "text\/html":[
       "<div>\n",
       "<style scoped>\n",
       "    .dataframe tbody tr th:only-of-type {\n",
       "        vertical-align: middle;\n",
       "    }\n",
       "\n",
       "    .dataframe tbody tr th {\n",
       "        vertical-align: top;\n",
       "    }\n",
       "\n",
       "    .dataframe thead th {\n",
       "        text-align: right;\n",
       "    }\n",
       "<\/style>\n",
       "<table border=\"1\" class=\"dataframe\">\n",
       "  <thead>\n",
       "    <tr style=\"text-align: right;\">\n",
       "      <th><\/th>\n",
       "      <th>Titles<\/th>\n",
       "      <th>Contents<\/th>\n",
       "    <\/tr>\n",
       "  <\/thead>\n",
       "  <tbody>\n",
       "    <tr>\n",
       "      <th>0<\/th>\n",
       "      <td>Document 1<\/td>\n",
       "      <td>This is the first document. It contains some w...<\/td>\n",
       "    <\/tr>\n",
       "    <tr>\n",
       "      <th>1<\/th>\n",
       "      <td>Document 2<\/td>\n",
       "      <td>The second document is a bit longer and has di...<\/td>\n",
       "    <\/tr>\n",
       "    <tr>\n",
       "      <th>2<\/th>\n",
       "      <td>Document 3<\/td>\n",
       "      <td>The third document is short. Short documents c...<\/td>\n",
       "    <\/tr>\n",
       "  <\/tbody>\n",
       "<\/table>\n",
       "<\/div>"
      ]
     },
     "metadata":{
      
     },
     "output_type":"display_data"
    }
   ],
   "metadata":{
    "datalore":{
     "node_id":"H2LspFAlcjqFACykRNAC2K",
     "type":"CODE",
     "hide_input_from_viewers":true,
     "hide_output_from_viewers":true
    }
   }
  },
  {
   "cell_type":"code",
   "source":[
    "titles = datas['Titles']\n",
    "contents = datas['Contents']\n"
   ],
   "execution_count":9,
   "outputs":[
    
   ],
   "metadata":{
    "datalore":{
     "node_id":"z5jGoJ1gE65VPdZguo4P7g",
     "type":"CODE",
     "hide_input_from_viewers":true,
     "hide_output_from_viewers":true
    }
   }
  },
  {
   "cell_type":"code",
   "source":[
    "unique_terms = {doc for content in contents for doc in content.split(' ')}\n",
    "# unique_terms = {doc for doc in contents}\n",
    "unique_terms"
   ],
   "execution_count":10,
   "outputs":[
    {
     "data":{
      "text\/plain":[
       "{'It',\n",
       " 'Short',\n",
       " 'The',\n",
       " 'This',\n",
       " 'a',\n",
       " 'and',\n",
       " 'be',\n",
       " 'bit',\n",
       " 'can',\n",
       " 'concise.',\n",
       " 'contains',\n",
       " 'different',\n",
       " 'document',\n",
       " 'document.',\n",
       " 'documents',\n",
       " 'first',\n",
       " 'has',\n",
       " 'is',\n",
       " 'longer',\n",
       " 'second',\n",
       " 'short.',\n",
       " 'some',\n",
       " 'the',\n",
       " 'third',\n",
       " 'words.'}"
      ]
     },
     "metadata":{
      
     },
     "output_type":"display_data"
    }
   ],
   "metadata":{
    "datalore":{
     "node_id":"aYESpgj7D1WVNhhonEJ6LU",
     "type":"CODE",
     "hide_input_from_viewers":true,
     "hide_output_from_viewers":true
    }
   }
  },
  {
   "cell_type":"code",
   "source":[
    "doc_term_matrix={}\n",
    "for key in unique_terms:\n",
    "    doc_term_matrix[key] = []\n",
    "    for doc in contents:\n",
    "        if key in doc:\n",
    "            doc_term_matrix[key].append(1)\n",
    "        else:\n",
    "            doc_term_matrix[key].append(0)\n",
    "# your code here\n",
    "\n",
    "# display the result of the matrix\n",
    "doc_term_matrix"
   ],
   "execution_count":11,
   "outputs":[
    {
     "data":{
      "text\/plain":[
       "{'a': [1, 1, 1],\n",
       " 'second': [0, 1, 0],\n",
       " 'some': [1, 0, 0],\n",
       " 'short.': [0, 0, 1],\n",
       " 'words.': [1, 1, 0],\n",
       " 'longer': [0, 1, 0],\n",
       " 'documents': [0, 0, 1],\n",
       " 'contains': [1, 0, 0],\n",
       " 'concise.': [0, 0, 1],\n",
       " 'bit': [0, 1, 0],\n",
       " 'third': [0, 0, 1],\n",
       " 'can': [0, 0, 1],\n",
       " 'document': [1, 1, 1],\n",
       " 'and': [0, 1, 0],\n",
       " 'the': [1, 0, 0],\n",
       " 'is': [1, 1, 1],\n",
       " 'has': [0, 1, 0],\n",
       " 'document.': [1, 0, 0],\n",
       " 'be': [0, 0, 1],\n",
       " 'It': [1, 0, 0],\n",
       " 'first': [1, 0, 0],\n",
       " 'This': [1, 0, 0],\n",
       " 'Short': [0, 0, 1],\n",
       " 'The': [0, 1, 1],\n",
       " 'different': [0, 1, 0]}"
      ]
     },
     "metadata":{
      
     },
     "output_type":"display_data"
    }
   ],
   "metadata":{
    "datalore":{
     "node_id":"FbRdLodZxaHcaeMwtgBSKN",
     "type":"CODE",
     "hide_input_from_viewers":true,
     "hide_output_from_viewers":true
    }
   }
  },
  {
   "cell_type":"code",
   "source":[
    "# import the numpy library if it doesn't work you need to install numpy\n",
    "import numpy as np\n",
    "\n",
    "docs_array = np.array(contents,dtype='object')\n",
    "title_array = np.array(titles,dtype='object')\n",
    "v1 = np.array(doc_term_matrix['the'],dtype=bool)    \n",
    "v2 = np.array(doc_term_matrix['document'],dtype = bool)\n",
    "v3 = v1 & v2\n",
    "content = docs_array[v3]\n",
    "title = titles[v3]\n",
    "seached = pd.DataFrame({'Titles':title,'Contents':content})\n",
    "seached"
   ],
   "execution_count":12,
   "outputs":[
    {
     "data":{
      "text\/html":[
       "<div>\n",
       "<style scoped>\n",
       "    .dataframe tbody tr th:only-of-type {\n",
       "        vertical-align: middle;\n",
       "    }\n",
       "\n",
       "    .dataframe tbody tr th {\n",
       "        vertical-align: top;\n",
       "    }\n",
       "\n",
       "    .dataframe thead th {\n",
       "        text-align: right;\n",
       "    }\n",
       "<\/style>\n",
       "<table border=\"1\" class=\"dataframe\">\n",
       "  <thead>\n",
       "    <tr style=\"text-align: right;\">\n",
       "      <th><\/th>\n",
       "      <th>Titles<\/th>\n",
       "      <th>Contents<\/th>\n",
       "    <\/tr>\n",
       "  <\/thead>\n",
       "  <tbody>\n",
       "    <tr>\n",
       "      <th>0<\/th>\n",
       "      <td>Document 1<\/td>\n",
       "      <td>This is the first document. It contains some w...<\/td>\n",
       "    <\/tr>\n",
       "  <\/tbody>\n",
       "<\/table>\n",
       "<\/div>"
      ]
     },
     "metadata":{
      
     },
     "output_type":"display_data"
    }
   ],
   "metadata":{
    "datalore":{
     "node_id":"wwRkCGWJh0R5Irs1ehSsGg",
     "type":"CODE",
     "hide_input_from_viewers":true,
     "hide_output_from_viewers":true
    }
   }
  }
 ],
 "metadata":{
  "kernelspec":{
   "display_name":"Python",
   "language":"python",
   "name":"python"
  },
  "datalore":{
   "computation_mode":"REACTIVE",
   "package_manager":"pip",
   "base_environment":"default",
   "packages":[
    
   ],
   "report_row_ids":[
    
   ],
   "version":3
  }
 },
 "nbformat":4,
 "nbformat_minor":4
}